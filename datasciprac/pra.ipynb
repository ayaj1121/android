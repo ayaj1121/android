{
 "cells": [
  {
   "cell_type": "code",
   "execution_count": 2,
   "metadata": {},
   "outputs": [
    {
     "output_type": "stream",
     "name": "stdout",
     "text": "aaaaa\nhello\n"
    }
   ],
   "source": [
    "print(\"aaaaa\")\n",
    "print(\"hello\")\n",
    "import pandas as pd\n",
    "data=pd.read_csv(\"C:\\Users\\memon\\Documents\\python\\preprocessing\\Data.csv\")"
   ]
  }
 ],
 "metadata": {
  "language_info": {
   "codemirror_mode": {
    "name": "ipython",
    "version": 3
   },
   "file_extension": ".py",
   "mimetype": "text/x-python",
   "name": "python",
   "nbconvert_exporter": "python",
   "pygments_lexer": "ipython3",
   "version": "3.8.2-final"
  },
  "orig_nbformat": 2,
  "kernelspec": {
   "name": "python38264bit18f9db04c93d48f78b1a73abd626afaa",
   "display_name": "Python 3.8.2 64-bit"
  }
 },
 "nbformat": 4,
 "nbformat_minor": 2
}