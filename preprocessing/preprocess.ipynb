{
 "nbformat": 4,
 "nbformat_minor": 2,
 "metadata": {
  "language_info": {
   "name": "python",
   "codemirror_mode": {
    "name": "ipython",
    "version": 3
   },
   "version": "3.8.2-final"
  },
  "orig_nbformat": 2,
  "file_extension": ".py",
  "mimetype": "text/x-python",
  "name": "python",
  "npconvert_exporter": "python",
  "pygments_lexer": "ipython3",
  "version": 3,
  "kernelspec": {
   "name": "python38264bit18f9db04c93d48f78b1a73abd626afaa",
   "display_name": "Python 3.8.2 64-bit"
  }
 },
 "cells": [
  {
   "cell_type": "code",
   "execution_count": 4,
   "metadata": {},
   "outputs": [
    {
     "output_type": "execute_result",
     "data": {
      "text/plain": "[array([['Germany', 40.0, nan],\n        ['France', 37.0, 67000.0],\n        ['Spain', 27.0, 48000.0],\n        ['Spain', nan, 52000.0],\n        ['France', 48.0, 79000.0],\n        ['Spain', 38.0, 61000.0],\n        ['France', 44.0, 72000.0],\n        ['France', 35.0, 58000.0]], dtype=object),\n array([['Germany', 30.0, 54000.0],\n        ['Germany', 50.0, 83000.0]], dtype=object),\n array([1, 1, 1, 0, 1, 0, 0, 1]),\n array([0, 0])]"
     },
     "metadata": {},
     "execution_count": 4
    }
   ],
   "source": [
    "import matplotlib.pyplot as mp,numpy as np,pandas as pd\n",
    "data=pd.read_csv(\"C:\\\\Users\\\\memon\\\\Documents\\\\python\\\\preprocessing\\\\Data.csv\")\n",
    "X=data.iloc[:,0:3].values\n",
    "y=data.loc[:,[\"Purchased\"]].values\n",
    "from sklearn.preprocessing import LabelEncoder\n",
    "labelencoder=LabelEncoder()\n",
    "y=labelencoder.fit_transform(y)\n",
    "from sklearn.preprocessing import OneHotEncoder\n",
    "from sklearn.compose import ColumnTransformer\n",
    "ct=ColumnTransformer([('encoder',OneHotEncoder(),[0])])\n",
    "from sklearn.model_selection import train_test_split\n",
    "train_test_split(X,y,test_size=0.2,random_state=0)\n",
    ""
   ]
  }
 ]
}