{
 "cells": [
  {
   "cell_type": "code",
   "execution_count": 4,
   "metadata": {},
   "outputs": [
    {
     "output_type": "stream",
     "name": "stderr",
     "text": "Using TensorFlow backend.\nEpoch 1/100\n8000/8000 [==============================] - 3s 360us/step - loss: 0.4825 - accuracy: 0.7960\nEpoch 2/100\n8000/8000 [==============================] - 3s 315us/step - loss: 0.4314 - accuracy: 0.7960\nEpoch 3/100\n8000/8000 [==============================] - 2s 296us/step - loss: 0.4297 - accuracy: 0.7960\nEpoch 4/100\n8000/8000 [==============================] - 3s 331us/step - loss: 0.4276 - accuracy: 0.7960\nEpoch 5/100\n8000/8000 [==============================] - 3s 337us/step - loss: 0.4237 - accuracy: 0.8054\nEpoch 6/100\n8000/8000 [==============================] - 3s 335us/step - loss: 0.4199 - accuracy: 0.8210\nEpoch 7/100\n8000/8000 [==============================] - 3s 323us/step - loss: 0.4169 - accuracy: 0.8253\nEpoch 8/100\n8000/8000 [==============================] - 3s 331us/step - loss: 0.4154 - accuracy: 0.8292\nEpoch 9/100\n8000/8000 [==============================] - 3s 328us/step - loss: 0.4134 - accuracy: 0.8304\nEpoch 10/100\n8000/8000 [==============================] - 3s 316us/step - loss: 0.4120 - accuracy: 0.8309\nEpoch 11/100\n8000/8000 [==============================] - 2s 300us/step - loss: 0.4108 - accuracy: 0.8316\nEpoch 12/100\n8000/8000 [==============================] - 3s 341us/step - loss: 0.4099 - accuracy: 0.8326\nEpoch 13/100\n8000/8000 [==============================] - 3s 348us/step - loss: 0.4087 - accuracy: 0.8339\nEpoch 14/100\n8000/8000 [==============================] - 3s 320us/step - loss: 0.4079 - accuracy: 0.8339\nEpoch 15/100\n8000/8000 [==============================] - 3s 316us/step - loss: 0.4074 - accuracy: 0.8334\nEpoch 16/100\n8000/8000 [==============================] - 3s 322us/step - loss: 0.4068 - accuracy: 0.8335\nEpoch 17/100\n8000/8000 [==============================] - 2s 301us/step - loss: 0.4064 - accuracy: 0.8340\nEpoch 18/100\n8000/8000 [==============================] - 3s 353us/step - loss: 0.4050 - accuracy: 0.8344\nEpoch 19/100\n8000/8000 [==============================] - 3s 379us/step - loss: 0.4055 - accuracy: 0.8340\nEpoch 20/100\n8000/8000 [==============================] - 3s 330us/step - loss: 0.4051 - accuracy: 0.8345\nEpoch 21/100\n8000/8000 [==============================] - 3s 320us/step - loss: 0.4045 - accuracy: 0.8342\nEpoch 22/100\n8000/8000 [==============================] - 3s 327us/step - loss: 0.4045 - accuracy: 0.8336\nEpoch 23/100\n8000/8000 [==============================] - 3s 366us/step - loss: 0.4043 - accuracy: 0.8340\nEpoch 24/100\n8000/8000 [==============================] - 3s 386us/step - loss: 0.4036 - accuracy: 0.8338\nEpoch 25/100\n8000/8000 [==============================] - 3s 328us/step - loss: 0.4030 - accuracy: 0.8334\nEpoch 26/100\n8000/8000 [==============================] - 3s 348us/step - loss: 0.4035 - accuracy: 0.8356\nEpoch 27/100\n8000/8000 [==============================] - 2s 305us/step - loss: 0.4033 - accuracy: 0.8346\nEpoch 28/100\n8000/8000 [==============================] - 3s 314us/step - loss: 0.4034 - accuracy: 0.8346\nEpoch 29/100\n8000/8000 [==============================] - 3s 338us/step - loss: 0.4029 - accuracy: 0.8351\nEpoch 30/100\n8000/8000 [==============================] - 3s 361us/step - loss: 0.4027 - accuracy: 0.8345\nEpoch 31/100\n8000/8000 [==============================] - 3s 352us/step - loss: 0.4027 - accuracy: 0.8351\nEpoch 32/100\n8000/8000 [==============================] - 2s 307us/step - loss: 0.4024 - accuracy: 0.8353\nEpoch 33/100\n8000/8000 [==============================] - 3s 334us/step - loss: 0.4027 - accuracy: 0.8340\nEpoch 34/100\n8000/8000 [==============================] - 3s 317us/step - loss: 0.4025 - accuracy: 0.8347\nEpoch 35/100\n8000/8000 [==============================] - 3s 313us/step - loss: 0.4020 - accuracy: 0.8356\nEpoch 36/100\n8000/8000 [==============================] - 3s 325us/step - loss: 0.4020 - accuracy: 0.8349\nEpoch 37/100\n8000/8000 [==============================] - 2s 306us/step - loss: 0.4019 - accuracy: 0.8351\nEpoch 38/100\n8000/8000 [==============================] - 2s 304us/step - loss: 0.4024 - accuracy: 0.8336\nEpoch 39/100\n8000/8000 [==============================] - 2s 310us/step - loss: 0.4018 - accuracy: 0.8342\nEpoch 40/100\n8000/8000 [==============================] - 3s 324us/step - loss: 0.4022 - accuracy: 0.8346\nEpoch 41/100\n8000/8000 [==============================] - 2s 301us/step - loss: 0.4019 - accuracy: 0.8350\nEpoch 42/100\n8000/8000 [==============================] - 2s 299us/step - loss: 0.4016 - accuracy: 0.8350\nEpoch 43/100\n8000/8000 [==============================] - 2s 294us/step - loss: 0.4017 - accuracy: 0.8354\nEpoch 44/100\n8000/8000 [==============================] - 2s 287us/step - loss: 0.4015 - accuracy: 0.8351\nEpoch 45/100\n8000/8000 [==============================] - 2s 298us/step - loss: 0.4012 - accuracy: 0.8339\nEpoch 46/100\n8000/8000 [==============================] - 2s 291us/step - loss: 0.4010 - accuracy: 0.8364\nEpoch 47/100\n8000/8000 [==============================] - 2s 282us/step - loss: 0.4009 - accuracy: 0.8349\nEpoch 48/100\n8000/8000 [==============================] - 2s 255us/step - loss: 0.4015 - accuracy: 0.8341\nEpoch 49/100\n8000/8000 [==============================] - 2s 241us/step - loss: 0.4014 - accuracy: 0.8349\nEpoch 50/100\n8000/8000 [==============================] - 2s 256us/step - loss: 0.4011 - accuracy: 0.8357\nEpoch 51/100\n8000/8000 [==============================] - 2s 257us/step - loss: 0.4016 - accuracy: 0.8349\nEpoch 52/100\n8000/8000 [==============================] - 2s 265us/step - loss: 0.4012 - accuracy: 0.8347\nEpoch 53/100\n8000/8000 [==============================] - 2s 248us/step - loss: 0.4012 - accuracy: 0.8349\nEpoch 54/100\n8000/8000 [==============================] - 2s 262us/step - loss: 0.4014 - accuracy: 0.8344\nEpoch 55/100\n8000/8000 [==============================] - 2s 259us/step - loss: 0.4009 - accuracy: 0.8341\nEpoch 56/100\n8000/8000 [==============================] - 2s 291us/step - loss: 0.4010 - accuracy: 0.8359\nEpoch 57/100\n8000/8000 [==============================] - 2s 282us/step - loss: 0.4009 - accuracy: 0.8355\nEpoch 58/100\n8000/8000 [==============================] - 2s 308us/step - loss: 0.4005 - accuracy: 0.8357\nEpoch 59/100\n8000/8000 [==============================] - 2s 308us/step - loss: 0.4004 - accuracy: 0.8350\nEpoch 60/100\n8000/8000 [==============================] - 3s 327us/step - loss: 0.4012 - accuracy: 0.8345\nEpoch 61/100\n8000/8000 [==============================] - 3s 313us/step - loss: 0.4007 - accuracy: 0.8347\nEpoch 62/100\n8000/8000 [==============================] - 2s 302us/step - loss: 0.4007 - accuracy: 0.8334\nEpoch 63/100\n8000/8000 [==============================] - 2s 304us/step - loss: 0.4007 - accuracy: 0.8345\nEpoch 64/100\n8000/8000 [==============================] - 2s 304us/step - loss: 0.4009 - accuracy: 0.8359\nEpoch 65/100\n8000/8000 [==============================] - 2s 272us/step - loss: 0.4010 - accuracy: 0.8346\nEpoch 66/100\n8000/8000 [==============================] - 2s 253us/step - loss: 0.4006 - accuracy: 0.8339\nEpoch 67/100\n8000/8000 [==============================] - 2s 272us/step - loss: 0.4012 - accuracy: 0.8350\nEpoch 68/100\n8000/8000 [==============================] - 2s 282us/step - loss: 0.4009 - accuracy: 0.8345\nEpoch 69/100\n8000/8000 [==============================] - 2s 265us/step - loss: 0.4007 - accuracy: 0.8346\nEpoch 70/100\n8000/8000 [==============================] - 2s 271us/step - loss: 0.4012 - accuracy: 0.8344\nEpoch 71/100\n8000/8000 [==============================] - 2s 257us/step - loss: 0.4005 - accuracy: 0.8342\nEpoch 72/100\n8000/8000 [==============================] - 2s 261us/step - loss: 0.4007 - accuracy: 0.8350\nEpoch 73/100\n8000/8000 [==============================] - 2s 266us/step - loss: 0.4008 - accuracy: 0.8357\nEpoch 74/100\n8000/8000 [==============================] - 2s 270us/step - loss: 0.4011 - accuracy: 0.8330\nEpoch 75/100\n8000/8000 [==============================] - 2s 264us/step - loss: 0.4004 - accuracy: 0.8346\nEpoch 76/100\n8000/8000 [==============================] - 2s 262us/step - loss: 0.4008 - accuracy: 0.8353\nEpoch 77/100\n8000/8000 [==============================] - 2s 265us/step - loss: 0.4007 - accuracy: 0.8340\nEpoch 78/100\n8000/8000 [==============================] - 2s 262us/step - loss: 0.4003 - accuracy: 0.8353\nEpoch 79/100\n8000/8000 [==============================] - 2s 278us/step - loss: 0.4008 - accuracy: 0.8340\nEpoch 80/100\n8000/8000 [==============================] - 2s 268us/step - loss: 0.4008 - accuracy: 0.8331\nEpoch 81/100\n8000/8000 [==============================] - 2s 275us/step - loss: 0.4006 - accuracy: 0.8350\nEpoch 82/100\n8000/8000 [==============================] - 2s 286us/step - loss: 0.4014 - accuracy: 0.8342\nEpoch 83/100\n8000/8000 [==============================] - 2s 284us/step - loss: 0.4006 - accuracy: 0.8355\nEpoch 84/100\n8000/8000 [==============================] - 2s 281us/step - loss: 0.4004 - accuracy: 0.8365\nEpoch 85/100\n8000/8000 [==============================] - 2s 280us/step - loss: 0.4007 - accuracy: 0.8350\nEpoch 86/100\n8000/8000 [==============================] - 2s 269us/step - loss: 0.4006 - accuracy: 0.8353\nEpoch 87/100\n8000/8000 [==============================] - 2s 275us/step - loss: 0.4003 - accuracy: 0.8351\nEpoch 88/100\n8000/8000 [==============================] - 2s 273us/step - loss: 0.4000 - accuracy: 0.8350\nEpoch 89/100\n8000/8000 [==============================] - 2s 266us/step - loss: 0.4001 - accuracy: 0.8353\nEpoch 90/100\n8000/8000 [==============================] - 3s 328us/step - loss: 0.4005 - accuracy: 0.8353\nEpoch 91/100\n8000/8000 [==============================] - 3s 314us/step - loss: 0.4002 - accuracy: 0.8332\nEpoch 92/100\n8000/8000 [==============================] - 2s 305us/step - loss: 0.4011 - accuracy: 0.8359\nEpoch 93/100\n8000/8000 [==============================] - 2s 287us/step - loss: 0.4002 - accuracy: 0.8357\nEpoch 94/100\n8000/8000 [==============================] - 2s 267us/step - loss: 0.4005 - accuracy: 0.8345\nEpoch 95/100\n8000/8000 [==============================] - 2s 270us/step - loss: 0.4004 - accuracy: 0.8363\nEpoch 96/100\n8000/8000 [==============================] - 2s 285us/step - loss: 0.4004 - accuracy: 0.8349\nEpoch 97/100\n8000/8000 [==============================] - 2s 287us/step - loss: 0.3997 - accuracy: 0.8347\nEpoch 98/100\n8000/8000 [==============================] - 2s 272us/step - loss: 0.4003 - accuracy: 0.8353\nEpoch 99/100\n8000/8000 [==============================] - 2s 276us/step - loss: 0.4006 - accuracy: 0.8357\nEpoch 100/100\n8000/8000 [==============================] - 2s 278us/step - loss: 0.4005 - accuracy: 0.8344\n"
    },
    {
     "output_type": "execute_result",
     "data": {
      "text/plain": "<keras.callbacks.callbacks.History at 0x1e7af30c670>"
     },
     "metadata": {},
     "execution_count": 4
    }
   ],
   "source": [
    "import pandas as pd,numpy as np\n",
    "ann=pd.read_csv(\"C:\\\\Users\\\\memon\\\\Documents\\\\python\\\\DeepLearning\\\\ann\\\\Churn_Modelling.csv\")\n",
    "X=ann.iloc[:,3:13].values\n",
    "y=ann.iloc[:,[13]].values\n",
    "from sklearn.preprocessing import LabelEncoder,OneHotEncoder,StandardScaler\n",
    "labelencode_X2=LabelEncoder()\n",
    "X[:,2]=labelencode_X2.fit_transform(X[:,2])\n",
    "from sklearn.compose import ColumnTransformer\n",
    "ct=ColumnTransformer([('encoder',OneHotEncoder(),[1])],remainder='passthrough')\n",
    "X=ct.fit_transform(X)\n",
    "X=X[:,1:]\n",
    "sc_X=StandardScaler()\n",
    "X=sc_X.fit_transform(X)\n",
    "\n",
    "from sklearn.model_selection import train_test_split\n",
    "X_train,X_test,y_train,y_test=train_test_split(X,y,test_size=0.2,random_state=0)\n",
    "from keras.models import Sequential\n",
    "from keras.layers import Dense\n",
    "classifier=Sequential()\n",
    "classifier.add(Dense(units=6,input_dim=11,kernel_initializer=\"uniform\",activation=\"relu\"))\n",
    "classifier.add(Dense(units=6,kernel_initializer=\"uniform\",activation=\"relu\"))\n",
    "classifier.add(Dense(units=1,kernel_initializer=\"uniform\",activation=\"sigmoid\"))\n",
    "classifier.compile(optimizer=\"adam\",loss=\"binary_crossentropy\",metrics=['accuracy'])\n",
    "classifier.fit(X_train,y_train,batch_size=10,epochs=100)"
   ]
  },
  {
   "cell_type": "code",
   "execution_count": 14,
   "metadata": {},
   "outputs": [],
   "source": [
    "ypred=classifier.predict(X_test)\n",
    "ypred=ypred>0.5\n",
    "from sklearn.metrics import confusion_matrix\n",
    "cm=confusion_matrix(y_test,ypred)"
   ]
  }
 ],
 "metadata": {
  "language_info": {
   "codemirror_mode": {
    "name": "ipython",
    "version": 3
   },
   "file_extension": ".py",
   "mimetype": "text/x-python",
   "name": "python",
   "nbconvert_exporter": "python",
   "pygments_lexer": "ipython3",
   "version": "3.8.2-final"
  },
  "orig_nbformat": 2,
  "kernelspec": {
   "name": "python38264bit18f9db04c93d48f78b1a73abd626afaa",
   "display_name": "Python 3.8.2 64-bit"
  }
 },
 "nbformat": 4,
 "nbformat_minor": 2
}