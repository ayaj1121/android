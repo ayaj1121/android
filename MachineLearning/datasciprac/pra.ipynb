{
 "cells": [
  {
   "cell_type": "code",
   "execution_count": 6,
   "metadata": {},
   "outputs": [
    {
     "output_type": "execute_result",
     "data": {
      "text/plain": "   Country   Age   Salary Purchased\n0   France  44.0  72000.0        No\n1    Spain  27.0  48000.0       Yes\n2  Germany  30.0  54000.0        No\n3    Spain  38.0  61000.0        No\n4  Germany  40.0      NaN       Yes\n5   France  35.0  58000.0       Yes\n6    Spain   NaN  52000.0        No\n7   France  48.0  79000.0       Yes\n8  Germany  50.0  83000.0        No\n9   France  37.0  67000.0       Yes",
      "text/html": "<div>\n<style scoped>\n    .dataframe tbody tr th:only-of-type {\n        vertical-align: middle;\n    }\n\n    .dataframe tbody tr th {\n        vertical-align: top;\n    }\n\n    .dataframe thead th {\n        text-align: right;\n    }\n</style>\n<table border=\"1\" class=\"dataframe\">\n  <thead>\n    <tr style=\"text-align: right;\">\n      <th></th>\n      <th>Country</th>\n      <th>Age</th>\n      <th>Salary</th>\n      <th>Purchased</th>\n    </tr>\n  </thead>\n  <tbody>\n    <tr>\n      <th>0</th>\n      <td>France</td>\n      <td>44.0</td>\n      <td>72000.0</td>\n      <td>No</td>\n    </tr>\n    <tr>\n      <th>1</th>\n      <td>Spain</td>\n      <td>27.0</td>\n      <td>48000.0</td>\n      <td>Yes</td>\n    </tr>\n    <tr>\n      <th>2</th>\n      <td>Germany</td>\n      <td>30.0</td>\n      <td>54000.0</td>\n      <td>No</td>\n    </tr>\n    <tr>\n      <th>3</th>\n      <td>Spain</td>\n      <td>38.0</td>\n      <td>61000.0</td>\n      <td>No</td>\n    </tr>\n    <tr>\n      <th>4</th>\n      <td>Germany</td>\n      <td>40.0</td>\n      <td>NaN</td>\n      <td>Yes</td>\n    </tr>\n    <tr>\n      <th>5</th>\n      <td>France</td>\n      <td>35.0</td>\n      <td>58000.0</td>\n      <td>Yes</td>\n    </tr>\n    <tr>\n      <th>6</th>\n      <td>Spain</td>\n      <td>NaN</td>\n      <td>52000.0</td>\n      <td>No</td>\n    </tr>\n    <tr>\n      <th>7</th>\n      <td>France</td>\n      <td>48.0</td>\n      <td>79000.0</td>\n      <td>Yes</td>\n    </tr>\n    <tr>\n      <th>8</th>\n      <td>Germany</td>\n      <td>50.0</td>\n      <td>83000.0</td>\n      <td>No</td>\n    </tr>\n    <tr>\n      <th>9</th>\n      <td>France</td>\n      <td>37.0</td>\n      <td>67000.0</td>\n      <td>Yes</td>\n    </tr>\n  </tbody>\n</table>\n</div>"
     },
     "metadata": {},
     "execution_count": 6
    }
   ],
   "source": [
    "import pandas as pd\n",
    "data=pd.read_csv(\"C:\\\\Users\\\\memon\\\\Documents\\\\python\\\\preprocessing\\\\Data.csv\")\n",
    "\n"
   ]
  },
  {
   "cell_type": "code",
   "execution_count": 12,
   "metadata": {},
   "outputs": [
    {
     "output_type": "stream",
     "name": "stdout",
     "text": "(0, 47)\t1.0\n  (0, 48)\t136897.8\n  (0, 49)\t471784.1\n  (0, 50)\t2.0\n  (1, 46)\t1.0\n  (1, 48)\t151377.59\n  (1, 49)\t443898.53\n  (2, 45)\t1.0\n  (2, 48)\t101145.55\n  (2, 49)\t407934.54\n  (2, 50)\t1.0\n  (3, 44)\t1.0\n  (3, 48)\t118671.85\n  (3, 49)\t383199.62\n  (3, 50)\t2.0\n  (4, 43)\t1.0\n  (4, 48)\t91391.77\n  (4, 49)\t366168.42\n  (4, 50)\t1.0\n  (5, 41)\t1.0\n  (5, 48)\t99814.71\n  (5, 49)\t362861.36\n  (5, 50)\t2.0\n  (6, 42)\t1.0\n  (6, 48)\t147198.87\n  :\t:\n  (41, 50)\t1.0\n  (42, 6)\t1.0\n  (42, 48)\t96189.63\n  (42, 49)\t148001.11\n  (43, 3)\t1.0\n  (43, 48)\t127382.3\n  (43, 49)\t35534.17\n  (43, 50)\t2.0\n  (44, 5)\t1.0\n  (44, 48)\t154806.14\n  (44, 49)\t28334.72\n  (45, 1)\t1.0\n  (45, 48)\t124153.04\n  (45, 49)\t1903.93\n  (45, 50)\t2.0\n  (46, 2)\t1.0\n  (46, 48)\t115816.21\n  (46, 49)\t297114.46\n  (46, 50)\t1.0\n  (47, 48)\t135426.92\n  (48, 0)\t1.0\n  (48, 48)\t51743.15\n  (48, 50)\t2.0\n  (49, 48)\t116983.8\n  (49, 49)\t45173.06\n"
    }
   ],
   "source": [
    "# Multiple Linear Regression\n",
    "\n",
    "# Importing the libraries\n",
    "import numpy as np\n",
    "import matplotlib.pyplot as plt\n",
    "import pandas as pd\n",
    "\n",
    "# Importing the dataset\n",
    "dataset = pd.read_csv('C:\\\\Users\\\\memon\\\\Documents\\\\python\\\\multiregression\\\\50_Startups.csv')\n",
    "X = dataset.iloc[:, :-1].values\n",
    "y = dataset.iloc[:, 4].values\n",
    "\n",
    "# Encoding categorical data\n",
    "from sklearn.preprocessing import LabelEncoder, OneHotEncoder\n",
    "labelencoder = LabelEncoder()\n",
    "X[:, 3] = labelencoder.fit_transform(X[:, 3])\n",
    "from sklearn.compose import ColumnTransformer\n",
    "ct=ColumnTransformer([('encoder',OneHotEncoder(),[0])],remainder='passthrough')\n",
    "X=ct.fit_transform(X)\n",
    "\n",
    "# Avoiding the Dummy Variable Trap\n",
    "X = X[:, 1:]\n",
    "print(X)\n",
    "# Splitting the dataset into the Training set and Test set\n",
    "from sklearn.model_selection import train_test_split\n",
    "X_train, X_test, y_train, y_test = train_test_split(X, y, test_size = 0.2, random_state = 0)\n",
    "\n",
    "# Feature Scaling\n",
    "\"\"\"from sklearn.preprocessing import StandardScaler\n",
    "sc_X = StandardScaler()\n",
    "X_train = sc_X.fit_transform(X_train)\n",
    "X_test = sc_X.transform(X_test)\n",
    "sc_y = StandardScaler()\n",
    "y_train = sc_y.fit_transform(y_train)\"\"\"\n",
    "\n",
    "# Fitting Multiple Linear Regression to the Training set\n",
    "from sklearn.linear_model import LinearRegression\n",
    "regressor = LinearRegression()\n",
    "regressor.fit(X_train, y_train)\n",
    "\n",
    "# Predicting the Test set results\n",
    "y_pred = regressor.predict(X_test)\n",
    "\n",
    "# # Building the optimal model using Backward Elimination\n",
    "# import statsmodels.formula.api as sm\n",
    "# X = np.append(arr = np.ones((50, 1)).astype(int), values = X, axis = 1)\n",
    "# X_opt = X[:, [0, 1, 2, 3, 4, 5]]\n",
    "# regressor_OLS = sm.OLS(endog = y, exog = X_opt).fit()\n",
    "# regressor_OLS.summary()\n",
    "# X_opt = X[:, [0, 1, 3, 4, 5]]\n",
    "# regressor_OLS = sm.OLS(endog = y, exog = X_opt).fit()\n",
    "# regressor_OLS.summary()\n",
    "# X_opt = X[:, [0, 3, 4, 5]]\n",
    "# regressor_OLS = sm.OLS(endog = y, exog = X_opt).fit()\n",
    "# regressor_OLS.summary()\n",
    "# X_opt = X[:, [0, 3, 5]]\n",
    "# regressor_OLS = sm.OLS(endog = y, exog = X_opt).fit()\n",
    "# regressor_OLS.summary()\n",
    "# X_opt = X[:, [0, 3]]\n",
    "# regressor_OLS = sm.OLS(endog = y, exog = X_opt).fit()\n",
    "# regressor_OLS.summary()"
   ]
  }
 ],
 "metadata": {
  "language_info": {
   "codemirror_mode": {
    "name": "ipython",
    "version": 3
   },
   "file_extension": ".py",
   "mimetype": "text/x-python",
   "name": "python",
   "nbconvert_exporter": "python",
   "pygments_lexer": "ipython3",
   "version": "3.8.2-final"
  },
  "orig_nbformat": 2,
  "kernelspec": {
   "name": "python38264bit18f9db04c93d48f78b1a73abd626afaa",
   "display_name": "Python 3.8.2 64-bit"
  }
 },
 "nbformat": 4,
 "nbformat_minor": 2
}