{
 "cells": [
  {
   "cell_type": "code",
   "execution_count": null,
   "metadata": {},
   "outputs": [],
   "source": [
    "import pandas as pd,matplotlib.pyplot as mp,numpy as np\n",
    "startupdata=pd.read_csv(\"C:\\\\Users\\\\memon\\\\Documents\\\\python\\\\multiregression\\\\50_Startups.csv\")\n",
    "X=startupdata.iloc[:,0:4].values\n",
    "y=startupdata.iloc[:,[4]].values\n",
    "from sklearn.preprocessing import OneHotEncoder\n",
    "from sklearn.compose import ColumnTransformer\n",
    "ct=ColumnTransformer([('encoder',OneHotEncoder(),[3])],remainder='passthrough')\n",
    "X=ct.fit_transform(X)\n",
    "X=X[:,1:]\n",
    "# from sklearn.model_selection import train_test_split\n",
    "# X_train,X_test,y_train,y_test=train_test_split(X,y,test_size=0.2,random_state=0)\n",
    "# from sklearn.linear_model import LinearRegression\n",
    "# regresser=LinearRegression() \n",
    "# regresser.fit(X_train,y_train)\n",
    "# y_pred=regresser.predict(X_test)\n",
    "import statsmodels.api as sm\n",
    "X=np.append(arr=np.ones((50,1)),values=X,axis=1)\n",
    "X=np.array(X,dtype=float)\n",
    "X_opt=X[:,[0,1,2,3,4,5]]\n",
    "regresser_OLS=sm.OLS(endog=y,exog=X_opt).fit()\n",
    "regresser_OLS.summary()\n",
    "X_opt=X[:,[0,1,3,4,5]]\n",
    "regresser_OLS=sm.OLS(endog=y,exog=X_opt).fit()\n",
    "regresser_OLS.summary()\n",
    "X_opt=X[:,[0,3,5]]\n",
    "regresser_OLS=sm.OLS(endog=y,exog=X_opt).fit()\n",
    "regresser_OLS.summary()\n",
    "X_opt=X[:,[0,3]]\n",
    "regresser_OLS=sm.OLS(endog=y,exog=X_opt).fit()\n",
    "regresser_OLS.summary()"
   ]
  }
 ],
 "metadata": {
  "kernelspec": {
   "display_name": "Python 3.8.2 64-bit",
   "language": "python",
   "name": "python38264bit18f9db04c93d48f78b1a73abd626afaa"
  },
  "language_info": {
   "codemirror_mode": {
    "name": "ipython",
    "version": 3
   },
   "file_extension": ".py",
   "mimetype": "text/x-python",
   "name": "python",
   "nbconvert_exporter": "python",
   "pygments_lexer": "ipython3",
   "version": "3.8.2-final"
  }
 },
 "nbformat": 4,
 "nbformat_minor": 2
}